{
 "cells": [
  {
   "cell_type": "code",
   "execution_count": 1,
   "id": "a225a787",
   "metadata": {},
   "outputs": [
    {
     "name": "stdout",
     "output_type": "stream",
     "text": [
      "200\n",
      "floor price is: 190.0\n"
     ]
    }
   ],
   "source": [
    "import requests\n",
    "import json\n",
    "policy_id = 'ffa56051fda3d106a96f09c3d209d4bf24a117406fb813fb8b4548e3'\n",
    "response_API = requests.get(f\"https://api.opencnft.io/1/policy/{policy_id}/floor_price\")\n",
    "print(response_API.status_code)\n",
    "data = response_API.text\n",
    "parse_json = json.loads(data)\n",
    "floor_price = int(parse_json['floor_price'])/1000000\n",
    "print(f'floor price is: {floor_price}')"
   ]
  },
  {
   "cell_type": "code",
   "execution_count": 2,
   "id": "e326fe7b",
   "metadata": {},
   "outputs": [
    {
     "name": "stdout",
     "output_type": "stream",
     "text": [
      "<!DOCTYPE html>\n",
      "\n",
      "<html lang=\"en\">\n",
      "<head>\n",
      "<meta charset=\"utf-8\"/>\n",
      "<meta content=\"width=device-width, initial-scale=1\" name=\"viewport\"/>\n",
      "<meta content=\"notranslate\" name=\"google\"/>\n",
      "<meta content=\"Cardano visual explorer\" name=\"description\"/>\n",
      "<link href=\"/favicon.ico\" rel=\"shortcut icon\" size=\"16x16, 32x32, 48x48, 64x64, 128x128, 256x256\"/>\n",
      "<!-- Facebook Meta Tags -->\n",
      "<meta content=\"https://pool.pm/\" property=\"og:url\"/>\n",
      "<meta content=\"website\" property=\"og:type\"/>\n",
      "<meta content=\"Cardano visual explorer\" property=\"og:title\"/>\n",
      "<meta content=\"https://pool.pm/logo.png\" property=\"og:image\"/>\n",
      "<!-- Twitter Meta Tags -->\n",
      "<meta content=\"summary\" name=\"twitter:card\">\n",
      "<meta content=\"@pool_pm\" name=\"twitter:site\">\n",
      "<meta content=\"Cardano visual explorer\" name=\"twitter:title\">\n",
      "<meta content=\"https://pool.pm/logo_square.png\" name=\"twitter:image\">\n",
      "<title>pool.pm</title>\n",
      "<script src=\"/screenfull.min.js\"></script>\n",
      "<script src=\"https://unpkg.com/@google/model-viewer/dist/model-viewer.min.js\" type=\"module\"></script>\n",
      "<style>\n",
      "    @import url('https://fonts.googleapis.com/css2?family=Inter:wght@300;400;500;600;700&family=Montserrat:wght@800&display=swap');\n",
      "\n",
      "    body {\n",
      "      overflow-y: scroll\n",
      "    }\n",
      "\n",
      "    input[type=range]::-moz-range-progress {\n",
      "      cursor: pointer;\n",
      "    }\n",
      "\n",
      "    input[type=range]::-moz-range-thumb {\n",
      "      cursor: pointer;\n",
      "    }\n",
      "\n",
      "    div[reverse-wrapped-row=\"true\"]>div.r.wrp {\n",
      "      flex-direction: row-reverse;\n",
      "      flex-wrap: wrap-reverse;\n",
      "    }\n",
      "\n",
      "    div[force-justify-content-center=\"true\"] {\n",
      "      justify-content: center !important;\n",
      "    }\n",
      "\n",
      "    div[force-justify-content-center=\"true\"]>div.r.wrp {\n",
      "      justify-content: center !important;\n",
      "    }\n",
      "\n",
      "    model-viewer {\n",
      "      --poster-color: transparent;\n",
      "    }\n",
      "\n",
      "    model-viewer::part(default-progress-bar) {\n",
      "      background-color: #424242;\n",
      "    }\n",
      "\n",
      "    /* Safari work-around  */\n",
      "    @media not all and (min-resolution:.001dpcm) {\n",
      "      @supports (-webkit-appearance:none) {\n",
      "        .s.c>.s {\n",
      "          flex-basis: auto !important\n",
      "        }\n",
      "      }\n",
      "    }\n",
      "  </style>\n",
      "</meta></meta></meta></meta></head>\n",
      "<body>\n",
      "<script src=\"/app.js\"></script>\n",
      "</body>\n",
      "</html>\n",
      "\n",
      "[]\n"
     ]
    }
   ],
   "source": [
    "import bs4\n",
    "import requests\n",
    "r = requests.get('https://pool.pm/$gala_music')\n",
    "soup = bs4.BeautifulSoup(r.content,'html.parser')\n",
    "aa = soup.select(\"hc.s.e.wc\")\n",
    "for a in aa:\n",
    "    print(a)\n",
    "print(soup)\n",
    "print(aa)"
   ]
  },
  {
   "cell_type": "code",
   "execution_count": null,
   "id": "559cc6d7",
   "metadata": {},
   "outputs": [],
   "source": []
  },
  {
   "cell_type": "code",
   "execution_count": 3,
   "id": "08c63d9b",
   "metadata": {},
   "outputs": [],
   "source": [
    "wallet_id = \"addr1q9e96g3ctafpand3t8sa7p3sky8cuh03u6adkex4kjz39mt6s0wl2ej59gsmff47ak398r4hh9a2xp5hdyj6dgjdj64qq9rute\"\n",
    "\n",
    "def create_dict(wallet_id):\n",
    "    nft_dict={}\n",
    "    req = requests.get(f\"https://cardanoscan.io/address/{wallet_id}\")\n",
    "    soup = bs4.BeautifulSoup(req.content,\"html5lib\")\n",
    "    nft = soup.find_all(\"option\")[10:]\n",
    "    ##### Need to start at 10, because the :9 are built into the cardanoscan website and not relevant\n",
    "    count = 1\n",
    "    for item in nft:\n",
    "\n",
    "        asset_id = item['value']\n",
    "        var = item.text\n",
    "        policy_id = var.split(\":\")[2][:56]\n",
    "        asset_name = var.split(\":\")[0]\n",
    "        nft_dict[count] = [asset_name, asset_id, policy_id]\n",
    "        count += 1\n",
    "\n",
    "    # for key, val in nft_dict.items():\n",
    "    #     print(f\"{key} --- Asset Name: {val[0]} --- Asset ID: {val[1]} --- Policy ID: {val[2]}\")\n",
    "\n",
    "    return nft_dict"
   ]
  },
  {
   "cell_type": "code",
   "execution_count": null,
   "id": "a80cea7d",
   "metadata": {},
   "outputs": [],
   "source": []
  },
  {
   "cell_type": "code",
   "execution_count": 5,
   "id": "b0e330c5",
   "metadata": {},
   "outputs": [],
   "source": [
    "nft_dict= create_dict(wallet_id)"
   ]
  },
  {
   "cell_type": "code",
   "execution_count": 6,
   "id": "e570005c",
   "metadata": {},
   "outputs": [
    {
     "name": "stdout",
     "output_type": "stream",
     "text": [
      "{1: ['CardanoBits2007', 'a599a55637b8dcc40054d641b5f0d8ee7f818a1f', '1131301ad4b3cb7deaddbc8f03f77189082a5738c0167e1772233097'], 2: ['EquinePioneerSkin02280', '0270ffd547fababb1888e03b3397832a19c84930', '22d843e9e8b39d105c645944cc848abee2673d64e60f1f022791ec85'], 3: ['EquinePioneerSkin12515', '22813b7d752e1a59e6522af092fa1e44e2d0cfd1', '22d843e9e8b39d105c645944cc848abee2673d64e60f1f022791ec85'], 4: ['EquinePioneerSkin12516', 'c6ca8b6130e4994dd5c74eaacf114121636bc2aa', '22d843e9e8b39d105c645944cc848abee2673d64e60f1f022791ec85'], 5: ['EquinePioneerJockey02280', 'fb945167722f20e4b39bae09a37ba9525ca6b218', '23a000a839f04bb71b59b4ae74bf8cf5ed21ee0be520690e665ae4b4'], 6: ['EquinePioneerJockey12515', '2c2e0a84b0ad3f8300ccd4b2649c97587749dbf4', '23a000a839f04bb71b59b4ae74bf8cf5ed21ee0be520690e665ae4b4'], 7: ['EquinePioneerJockey12516', '8946266cf50da4b5f6076ee8296e77792f59e9ba', '23a000a839f04bb71b59b4ae74bf8cf5ed21ee0be520690e665ae4b4'], 8: ['EquinePioneerHorse02280', '64142b8f48cdfd2a2f6173f630033d6d5db823da', '30ed3d95db1d6bb2c12fc5228a2986eab4553f192a12a4607780e15b'], 9: ['EquinePioneerHorse12515', 'def9d1a7360babc4aec2b817ccd7082527658a11', '30ed3d95db1d6bb2c12fc5228a2986eab4553f192a12a4607780e15b'], 10: ['EquinePioneerHorse12516', 'f949adca31320734c944a6edf920146ba4ba6ee8', '30ed3d95db1d6bb2c12fc5228a2986eab4553f192a12a4607780e15b'], 11: ['EquinePioneerHorse13089', '3006d840f8497f59e26b1fadb8f531c9dc06fb29', '30ed3d95db1d6bb2c12fc5228a2986eab4553f192a12a4607780e15b'], 12: ['COCO', '32be30dd9cba0afbf398658b97d3ba5dcacf6296', '4cf268bd648f088ac9901bfa5a43f49610f7bdcae3a6eedc5e201fc3'], 13: ['CocoLocoSilverPalmS1NFT160', '8dad68809d1b62e856431c29e10b053b55d1e54e', 'a706fc87764cde4ac018c38bf61630c1065932db49e6f495be3b29f8'], 14: ['1882Rainbow', 'b3801ce4c5c7d030a8b9a88f95b4b4f737c8a90c', 'efa591af8a72f86b7020d9b2cb09a5b93468d14f58146f97c680fd25'], 15: ['3368Superhero', '3dbfa2e29e84777fcaf7c230c27105446fef46ee', 'f33617a1fb3a5c37461fb88e3d510b6aed0feb6ee8bb0e162475f4f2'], 16: ['trista95', '810c769729558932fda37ddd934c47f8ea8e1f50', 'f0ff48bbb7bbe9d59a40f1ce90e9e9d0ff5002ec48f232b49ca0fb9a']}\n"
     ]
    }
   ],
   "source": [
    "print(nft_dict)"
   ]
  },
  {
   "cell_type": "code",
   "execution_count": 7,
   "id": "24fbc157",
   "metadata": {},
   "outputs": [
    {
     "ename": "SyntaxError",
     "evalue": "'return' outside function (Temp/ipykernel_25412/2468075792.py, line 7)",
     "output_type": "error",
     "traceback": [
      "\u001b[1;36m  File \u001b[1;32m\"C:\\Users\\luker\\AppData\\Local\\Temp/ipykernel_25412/2468075792.py\"\u001b[1;36m, line \u001b[1;32m7\u001b[0m\n\u001b[1;33m    return nft_dict\u001b[0m\n\u001b[1;37m    ^\u001b[0m\n\u001b[1;31mSyntaxError\u001b[0m\u001b[1;31m:\u001b[0m 'return' outside function\n"
     ]
    }
   ],
   "source": [
    "for key, val in nft_dict.items():\n",
    "    if val[3] == \"https://miro.medium.com/max/1168/1*7MR5KsgkJad8QTo2e7DVjg.png\":\n",
    "                nft_price = \"This is a native token\"\n",
    "                usd_price = \"This is a native token\"\n",
    "                nft_dict[key].append(nft_price)\n",
    "                nft_dict[key].append(usd_price)\n",
    "                return nft_dict\n",
    "     else:\n",
    "                nft_price = price_api(val[2])\n",
    "                usd_price = (nft_price*(ada_price_api()))\n",
    "                nft_dict[key].append(nft_price)\n",
    "                nft_dict[key].append(usd_price)\n",
    "                return nft_dict"
   ]
  },
  {
   "cell_type": "code",
   "execution_count": null,
   "id": "be4fb049",
   "metadata": {},
   "outputs": [],
   "source": []
  },
  {
   "cell_type": "code",
   "execution_count": null,
   "id": "a5f57bda",
   "metadata": {},
   "outputs": [],
   "source": []
  },
  {
   "cell_type": "code",
   "execution_count": 5,
   "id": "2a23b64c",
   "metadata": {},
   "outputs": [],
   "source": [
    "my_iter = nft_dict.items()"
   ]
  },
  {
   "cell_type": "code",
   "execution_count": 6,
   "id": "1ad4ff0b",
   "metadata": {},
   "outputs": [
    {
     "ename": "TypeError",
     "evalue": "'dict_items' object is not an iterator",
     "output_type": "error",
     "traceback": [
      "\u001b[1;31m---------------------------------------------------------------------------\u001b[0m",
      "\u001b[1;31mTypeError\u001b[0m                                 Traceback (most recent call last)",
      "\u001b[1;32m~\\AppData\\Local\\Temp/ipykernel_16164/1757294138.py\u001b[0m in \u001b[0;36m<module>\u001b[1;34m\u001b[0m\n\u001b[1;32m----> 1\u001b[1;33m \u001b[0mprint\u001b[0m\u001b[1;33m(\u001b[0m\u001b[0mnext\u001b[0m\u001b[1;33m(\u001b[0m\u001b[0mmy_iter\u001b[0m\u001b[1;33m)\u001b[0m\u001b[1;33m)\u001b[0m\u001b[1;33m\u001b[0m\u001b[1;33m\u001b[0m\u001b[0m\n\u001b[0m",
      "\u001b[1;31mTypeError\u001b[0m: 'dict_items' object is not an iterator"
     ]
    }
   ],
   "source": [
    "print(next(my_iter))"
   ]
  },
  {
   "cell_type": "code",
   "execution_count": 14,
   "id": "f8d3d000",
   "metadata": {},
   "outputs": [],
   "source": [
    "my_iter = nft_dict.items()"
   ]
  },
  {
   "cell_type": "code",
   "execution_count": 18,
   "id": "f8610605",
   "metadata": {},
   "outputs": [
    {
     "name": "stdout",
     "output_type": "stream",
     "text": [
      "[['CardanoBits2007', 'a599a55637b8dcc40054d641b5f0d8ee7f818a1f', '1131301ad4b3cb7deaddbc8f03f77189082a5738c0167e1772233097'], ['EquinePioneerSkin02280', '0270ffd547fababb1888e03b3397832a19c84930', '22d843e9e8b39d105c645944cc848abee2673d64e60f1f022791ec85'], ['EquinePioneerSkin12515', '22813b7d752e1a59e6522af092fa1e44e2d0cfd1', '22d843e9e8b39d105c645944cc848abee2673d64e60f1f022791ec85'], ['EquinePioneerSkin12516', 'c6ca8b6130e4994dd5c74eaacf114121636bc2aa', '22d843e9e8b39d105c645944cc848abee2673d64e60f1f022791ec85'], ['EquinePioneerJockey02280', 'fb945167722f20e4b39bae09a37ba9525ca6b218', '23a000a839f04bb71b59b4ae74bf8cf5ed21ee0be520690e665ae4b4'], ['EquinePioneerJockey12515', '2c2e0a84b0ad3f8300ccd4b2649c97587749dbf4', '23a000a839f04bb71b59b4ae74bf8cf5ed21ee0be520690e665ae4b4'], ['EquinePioneerJockey12516', '8946266cf50da4b5f6076ee8296e77792f59e9ba', '23a000a839f04bb71b59b4ae74bf8cf5ed21ee0be520690e665ae4b4'], ['EquinePioneerHorse02280', '64142b8f48cdfd2a2f6173f630033d6d5db823da', '30ed3d95db1d6bb2c12fc5228a2986eab4553f192a12a4607780e15b'], ['EquinePioneerHorse12515', 'def9d1a7360babc4aec2b817ccd7082527658a11', '30ed3d95db1d6bb2c12fc5228a2986eab4553f192a12a4607780e15b'], ['EquinePioneerHorse12516', 'f949adca31320734c944a6edf920146ba4ba6ee8', '30ed3d95db1d6bb2c12fc5228a2986eab4553f192a12a4607780e15b'], ['EquinePioneerHorse13089', '3006d840f8497f59e26b1fadb8f531c9dc06fb29', '30ed3d95db1d6bb2c12fc5228a2986eab4553f192a12a4607780e15b'], ['COCO', '32be30dd9cba0afbf398658b97d3ba5dcacf6296', '4cf268bd648f088ac9901bfa5a43f49610f7bdcae3a6eedc5e201fc3'], ['CocoLocoSilverPalmS1NFT160', '8dad68809d1b62e856431c29e10b053b55d1e54e', 'a706fc87764cde4ac018c38bf61630c1065932db49e6f495be3b29f8'], ['1882Rainbow', 'b3801ce4c5c7d030a8b9a88f95b4b4f737c8a90c', 'efa591af8a72f86b7020d9b2cb09a5b93468d14f58146f97c680fd25'], ['3368Superhero', '3dbfa2e29e84777fcaf7c230c27105446fef46ee', 'f33617a1fb3a5c37461fb88e3d510b6aed0feb6ee8bb0e162475f4f2'], ['trista95', '810c769729558932fda37ddd934c47f8ea8e1f50', 'f0ff48bbb7bbe9d59a40f1ce90e9e9d0ff5002ec48f232b49ca0fb9a']]\n"
     ]
    }
   ],
   "source": [
    "dict_list = []\n",
    "for key,val in my_iter:\n",
    "    dict_list.append(val)\n",
    "\n",
    "print(dict_list)"
   ]
  },
  {
   "cell_type": "code",
   "execution_count": 19,
   "id": "86347a43",
   "metadata": {},
   "outputs": [
    {
     "data": {
      "text/plain": [
       "['CardanoBits2007',\n",
       " 'a599a55637b8dcc40054d641b5f0d8ee7f818a1f',\n",
       " '1131301ad4b3cb7deaddbc8f03f77189082a5738c0167e1772233097']"
      ]
     },
     "execution_count": 19,
     "metadata": {},
     "output_type": "execute_result"
    }
   ],
   "source": [
    "dict_list[0]"
   ]
  },
  {
   "cell_type": "code",
   "execution_count": null,
   "id": "8fec33a1",
   "metadata": {},
   "outputs": [],
   "source": []
  },
  {
   "cell_type": "code",
   "execution_count": null,
   "id": "3456ccd9",
   "metadata": {},
   "outputs": [],
   "source": []
  },
  {
   "cell_type": "code",
   "execution_count": null,
   "id": "f821fd7c",
   "metadata": {},
   "outputs": [],
   "source": []
  },
  {
   "cell_type": "code",
   "execution_count": null,
   "id": "7cb48f09",
   "metadata": {},
   "outputs": [],
   "source": []
  },
  {
   "cell_type": "code",
   "execution_count": 24,
   "id": "db06f799",
   "metadata": {},
   "outputs": [
    {
     "ename": "TypeError",
     "evalue": "'dict_itemiterator' object is not subscriptable",
     "output_type": "error",
     "traceback": [
      "\u001b[1;31m---------------------------------------------------------------------------\u001b[0m",
      "\u001b[1;31mTypeError\u001b[0m                                 Traceback (most recent call last)",
      "\u001b[1;32m~\\AppData\\Local\\Temp/ipykernel_23248/1759790552.py\u001b[0m in \u001b[0;36m<module>\u001b[1;34m\u001b[0m\n\u001b[1;32m----> 1\u001b[1;33m \u001b[1;32mfor\u001b[0m \u001b[0mkey\u001b[0m\u001b[1;33m,\u001b[0m\u001b[0mval\u001b[0m \u001b[1;32min\u001b[0m \u001b[0mmy_iter\u001b[0m\u001b[1;33m[\u001b[0m\u001b[1;33m:\u001b[0m\u001b[1;36m1\u001b[0m\u001b[1;33m]\u001b[0m\u001b[1;33m:\u001b[0m\u001b[1;33m\u001b[0m\u001b[1;33m\u001b[0m\u001b[0m\n\u001b[0m\u001b[0;32m      2\u001b[0m     \u001b[0mprint\u001b[0m\u001b[1;33m(\u001b[0m\u001b[1;34mf\"Name: {val[0]}\"\u001b[0m\u001b[1;33m)\u001b[0m\u001b[1;33m\u001b[0m\u001b[1;33m\u001b[0m\u001b[0m\n\u001b[0;32m      3\u001b[0m     \u001b[0mprint\u001b[0m\u001b[1;33m(\u001b[0m\u001b[1;34mf\"asset ID: {val[1]}\"\u001b[0m\u001b[1;33m)\u001b[0m\u001b[1;33m\u001b[0m\u001b[1;33m\u001b[0m\u001b[0m\n\u001b[0;32m      4\u001b[0m     \u001b[0mprint\u001b[0m\u001b[1;33m(\u001b[0m\u001b[1;34mf\"Policy ID: {val[2]}\"\u001b[0m\u001b[1;33m)\u001b[0m\u001b[1;33m\u001b[0m\u001b[1;33m\u001b[0m\u001b[0m\n\u001b[0;32m      5\u001b[0m     \u001b[0mprint\u001b[0m\u001b[1;33m(\u001b[0m\u001b[0mval\u001b[0m\u001b[1;33m)\u001b[0m\u001b[1;33m\u001b[0m\u001b[1;33m\u001b[0m\u001b[0m\n",
      "\u001b[1;31mTypeError\u001b[0m: 'dict_itemiterator' object is not subscriptable"
     ]
    }
   ],
   "source": [
    "for key,val in my_iter:\n",
    "    print(f\"Name: {val[0]}\")\n",
    "    print(f\"asset ID: {val[1]}\")\n",
    "    print(f\"Policy ID: {val[2]}\")\n",
    "    print(val)"
   ]
  },
  {
   "cell_type": "code",
   "execution_count": null,
   "id": "3bbf6591",
   "metadata": {},
   "outputs": [],
   "source": []
  },
  {
   "cell_type": "code",
   "execution_count": null,
   "id": "ec325213",
   "metadata": {},
   "outputs": [],
   "source": []
  },
  {
   "cell_type": "code",
   "execution_count": 1,
   "id": "5775e31c",
   "metadata": {},
   "outputs": [
    {
     "name": "stdout",
     "output_type": "stream",
     "text": [
      "Input your wallet address here to get your NFTs.$junkyard\n"
     ]
    },
    {
     "name": "stderr",
     "output_type": "stream",
     "text": [
      "C:\\Users\\luker\\AppData\\Local\\Temp/ipykernel_18512/3858012175.py:11: DeprecationWarning: executable_path has been deprecated, please pass in a Service object\n",
      "  driver = webdriver.Chrome(PATH)\n"
     ]
    }
   ],
   "source": [
    "# import time\n",
    "# from selenium import webdriver\n",
    "# from selenium.webdriver.common.by import By\n",
    "# from selenium.webdriver.support.ui import WebDriverWait\n",
    "# from selenium.webdriver.support import expected_conditions as EC\n",
    "# from selenium.webdriver.common.keys import Keys\n",
    "\n",
    "\n",
    "# def wallet_grab(wallet_id):\n",
    "#     PATH = \"C:\\Program Files (x86)\\chromedriver.exe\"\n",
    "#     driver = webdriver.Chrome(PATH)\n",
    "\n",
    "#     driver.get(\"https://pool.pm/search/\")\n",
    "\n",
    "\n",
    "#     element = WebDriverWait(driver,10).until(\n",
    "#                 EC.presence_of_element_located((By.ID,\"search\"))\n",
    "#                 )\n",
    "#     search = driver.find_element(By.ID,\"search\")\n",
    "#     search.send_keys(str(wallet_id))\n",
    "#     search.send_keys(Keys.RETURN)\n",
    "\n",
    "\n",
    "\n",
    "# wallet_grab(input(\"Input your wallet address here to get your NFTs.\"))\n"
   ]
  },
  {
   "cell_type": "code",
   "execution_count": 18,
   "id": "202af5c0",
   "metadata": {},
   "outputs": [
    {
     "name": "stderr",
     "output_type": "stream",
     "text": [
      "C:\\Users\\luker\\AppData\\Local\\Temp/ipykernel_18876/1523155479.py:11: DeprecationWarning: executable_path has been deprecated, please pass in a Service object\n",
      "  driver = webdriver.Chrome(PATH)\n"
     ]
    }
   ],
   "source": [
    "import time\n",
    "from selenium import webdriver\n",
    "from selenium.webdriver.common.by import By\n",
    "from selenium.webdriver.support.ui import WebDriverWait\n",
    "from selenium.webdriver.support import expected_conditions as EC\n",
    "from selenium.webdriver.common.keys import Keys\n",
    "\n",
    "wallet_id = \"$gala_music\"\n",
    "\n",
    "PATH = \"C:\\Program Files (x86)\\chromedriver.exe\"\n",
    "driver = webdriver.Chrome(PATH)\n",
    "\n",
    "driver.get(\"https://pool.pm/search/\")\n",
    "element = WebDriverWait(driver,10).until(\n",
    "                EC.presence_of_element_located((By.ID,\"search\"))\n",
    "                )\n",
    "search = driver.find_element(By.ID,\"search\")\n",
    "search.send_keys(str(wallet_id))\n",
    "search.send_keys(Keys.RETURN)\n"
   ]
  },
  {
   "cell_type": "code",
   "execution_count": null,
   "id": "32b3e13d",
   "metadata": {},
   "outputs": [],
   "source": []
  },
  {
   "cell_type": "code",
   "execution_count": null,
   "id": "1394d2bb",
   "metadata": {},
   "outputs": [],
   "source": []
  },
  {
   "cell_type": "code",
   "execution_count": null,
   "id": "0cb2dd24",
   "metadata": {},
   "outputs": [],
   "source": []
  }
 ],
 "metadata": {
  "kernelspec": {
   "display_name": "Python 3 (ipykernel)",
   "language": "python",
   "name": "python3"
  },
  "language_info": {
   "codemirror_mode": {
    "name": "ipython",
    "version": 3
   },
   "file_extension": ".py",
   "mimetype": "text/x-python",
   "name": "python",
   "nbconvert_exporter": "python",
   "pygments_lexer": "ipython3",
   "version": "3.9.7"
  }
 },
 "nbformat": 4,
 "nbformat_minor": 5
}
